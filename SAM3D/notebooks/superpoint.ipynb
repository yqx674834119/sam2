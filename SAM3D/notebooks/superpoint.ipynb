{
 "cells": [
  {
   "cell_type": "code",
   "execution_count": null,
   "id": "b04af251",
   "metadata": {},
   "outputs": [
    {
     "name": "stdout",
     "output_type": "stream",
     "text": [
      "原始点云包含 206098 个点\n"
     ]
    }
   ],
   "source": [
    "import open3d as o3d\n",
    "import numpy as np\n",
    "import random\n",
    "\n",
    "def generate_superpoints(pcd, voxel_size=0.02, min_points=30):\n",
    "    \"\"\"\n",
    "    基于体素下采样+区域生长分割，生成超点（superpoints）。\n",
    "    \"\"\"\n",
    "    down_pcd = pcd.voxel_down_sample(voxel_size=voxel_size)\n",
    "    down_pcd.estimate_normals(\n",
    "        search_param=o3d.geometry.KDTreeSearchParamHybrid(radius=voxel_size * 2.0, max_nn=30)\n",
    "    )\n",
    "\n",
    "    labels = np.array(\n",
    "        down_pcd.cluster_dbscan(eps=voxel_size * 1.5, min_points=min_points, print_progress=True)\n",
    "    )\n",
    "\n",
    "    if labels.max() == -1:\n",
    "        raise ValueError(\"DBSCAN未找到任何有效超点！请调整 voxel_size 或 min_points 参数。\")\n",
    "\n",
    "    print(f\"生成了 {labels.max() + 1} 个超点区域\")\n",
    "    return down_pcd, labels\n",
    "\n",
    "def colorize_superpoints(pcd, labels):\n",
    "    \"\"\"\n",
    "    给不同的超点（标签）随机赋色。\n",
    "    \"\"\"\n",
    "    max_label = labels.max()\n",
    "    if max_label == -1:\n",
    "        raise ValueError(\"无法上色：超点标签全为-1（噪声）\")\n",
    "\n",
    "    # 生成颜色\n",
    "    colors = np.array([np.random.rand(3) for _ in range(max_label + 1)])\n",
    "\n",
    "    # 给未分类的噪声点指定黑色\n",
    "    colors_with_noise = np.vstack([colors, np.array([[0, 0, 0]])])\n",
    "\n",
    "    # 注意：labels中-1要映射到最后一行（黑色）\n",
    "    mapped_labels = np.where(labels == -1, max_label + 1, labels)\n",
    "\n",
    "    pcd.colors = o3d.utility.Vector3dVector(colors_with_noise[mapped_labels])\n",
    "    return pcd\n",
    "\n",
    "def save_colored_pcd(pcd, output_filename):\n",
    "    \"\"\"\n",
    "    保存着色后的点云。\n",
    "    \"\"\"\n",
    "    o3d.io.write_point_cloud(output_filename, pcd)\n",
    "    print(f\"保存着色后的点云到：{output_filename}\")\n",
    "\n",
    "\n",
    "# 加载原始点云\n",
    "input_filename = \"/hpc2hdd/home/qyao951/sam2/SAM3D/crop_pcd.ply\"  # 这里替换成你的点云文件\n",
    "pcd = o3d.io.read_point_cloud(input_filename)\n",
    "print(f\"原始点云包含 {len(pcd.points)} 个点\")\n",
    "\n",
    "# 生成超点\n",
    "down_pcd, labels = generate_superpoints(pcd, voxel_size=0.002, min_points=30)\n",
    "\n",
    "# 给超点上色\n",
    "colored_pcd = colorize_superpoints(down_pcd, labels)\n",
    "\n",
    "# 保存新的点云\n",
    "save_colored_pcd(colored_pcd, \"colored_superpoints.ply\")\n",
    "\n",
    "# 可视化\n",
    "# o3d.visualization.draw_geometries([colored_pcd])\n"
   ]
  }
 ],
 "metadata": {
  "kernelspec": {
   "display_name": "sam2",
   "language": "python",
   "name": "python3"
  },
  "language_info": {
   "codemirror_mode": {
    "name": "ipython",
    "version": 3
   },
   "file_extension": ".py",
   "mimetype": "text/x-python",
   "name": "python",
   "nbconvert_exporter": "python",
   "pygments_lexer": "ipython3",
   "version": "3.10.16"
  }
 },
 "nbformat": 4,
 "nbformat_minor": 5
}
